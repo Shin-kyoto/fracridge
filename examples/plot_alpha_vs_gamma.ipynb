{
  "nbformat": 4,
  "nbformat_minor": 0,
  "metadata": {
    "colab": {
      "name": "plot_alpha_vs_gamma.ipynb",
      "private_outputs": true,
      "provenance": [],
      "authorship_tag": "ABX9TyNqpuqBH20FM44nyAz89zWp",
      "include_colab_link": true
    },
    "kernelspec": {
      "name": "python3",
      "display_name": "Python 3"
    }
  },
  "cells": [
    {
      "cell_type": "markdown",
      "metadata": {
        "id": "view-in-github",
        "colab_type": "text"
      },
      "source": [
        "<a href=\"https://colab.research.google.com/github/Shin-kyoto/fracridge/blob/master/examples/plot_alpha_vs_gamma.ipynb\" target=\"_parent\"><img src=\"https://colab.research.google.com/assets/colab-badge.svg\" alt=\"Open In Colab\"/></a>"
      ]
    },
    {
      "cell_type": "code",
      "metadata": {
        "id": "Xdyt7hdje-uR"
      },
      "source": [
        "pip install fracridge"
      ],
      "execution_count": null,
      "outputs": []
    },
    {
      "cell_type": "code",
      "metadata": {
        "id": "Lo-EeZq7fzCX"
      },
      "source": [
        "pip install -U scikit-learn"
      ],
      "execution_count": null,
      "outputs": []
    },
    {
      "cell_type": "code",
      "metadata": {
        "id": "sjTx9ipqe9fV"
      },
      "source": [
        "\"\"\"\r\n",
        "========================================\r\n",
        "Comparing alpha and fracs\r\n",
        "========================================\r\n",
        "Here we compare parameterization using fractional ridge regression (FRR) and\r\n",
        "standard ridge regression (SRR).\r\n",
        "We will use the cross-validation objects implemented for both of these methods.\r\n",
        "In the case of SRR, we will use the Scikit Learn implementation in the\r\n",
        ":class:`sklearn.linear_model.RidgeCV` object. For FRR, we use the\r\n",
        ":class:`FracRidgeRegressorCV` object, which implements a similar API.\r\n",
        "\"\"\"\r\n",
        "\r\n",
        "##########################################################################\r\n",
        "# Imports:\r\n",
        "#\r\n",
        "\r\n",
        "import numpy as np\r\n",
        "from numpy.linalg import norm\r\n",
        "from sklearn.datasets import make_regression\r\n",
        "from sklearn.model_selection import train_test_split\r\n",
        "from sklearn.metrics import r2_score\r\n",
        "from sklearn.linear_model import RidgeCV, LinearRegression\r\n",
        "from fracridge import FracRidgeRegressorCV"
      ],
      "execution_count": null,
      "outputs": []
    },
    {
      "cell_type": "markdown",
      "metadata": {
        "id": "kgbSMhlth6hR"
      },
      "source": [
        "## データ作成"
      ]
    },
    {
      "cell_type": "code",
      "metadata": {
        "id": "_e0yHV1Tew0r"
      },
      "source": [
        "##########################################################################\r\n",
        "# Here, we use a synthetic dataset. We generate a regression dataset\r\n",
        "# with multiple targets, multiple samples, a large number of features\r\n",
        "# and plenty of redundancy between them (set through the\r\n",
        "# relatively small `effective_rank` of the design matrix):\r\n",
        "#\r\n",
        "\r\n",
        "np.random.seed(1984)\r\n",
        "\r\n",
        "n_targets = 15\r\n",
        "n_features = 80\r\n",
        "effective_rank = 20\r\n",
        "X, y, coef_true = make_regression(\r\n",
        "                    n_samples=250,\r\n",
        "                    n_features=n_features,\r\n",
        "                    effective_rank=effective_rank,\r\n",
        "                    n_targets=n_targets,\r\n",
        "                    coef=True,\r\n",
        "                    noise=5)\r\n",
        "\r\n",
        "##########################################################################\r\n",
        "# To evaluate and compare the performance of the two algorithms, we\r\n",
        "# split the data into test and train sets:\r\n",
        "\r\n",
        "X_train, X_test, y_train, y_test = train_test_split(X, y)"
      ],
      "execution_count": null,
      "outputs": []
    },
    {
      "cell_type": "markdown",
      "metadata": {
        "id": "leeb1QGdh9GJ"
      },
      "source": [
        "## SRR(スタンダード Ridge 回帰)\r\n",
        "- RidgeCVはクロスバリデーション(CV)もやってくれる"
      ]
    },
    {
      "cell_type": "code",
      "metadata": {
        "id": "HGt-lp6vh5m9"
      },
      "source": [
        "##########################################################################\r\n",
        "# We will start with SRR. We use a dense grid of alphas with 20\r\n",
        "# log-spaced values -- a common heuristic used to ensure a wide sampling\r\n",
        "# of alpha values\r\n",
        "\r\n",
        "n_alphas = 20\r\n",
        "srr_alphas = np.logspace(-10, 10, n_alphas)\r\n",
        "srr = RidgeCV(alphas=srr_alphas)\r\n",
        "srr.fit(X_train, y_train)"
      ],
      "execution_count": null,
      "outputs": []
    },
    {
      "cell_type": "markdown",
      "metadata": {
        "id": "B4O9AOruiLtZ"
      },
      "source": [
        "## FRR(fraction Ridge 回帰)\r\n",
        "- FracRidgeRegressorCV(はクロスバリデーション(CV)もやってくれる"
      ]
    },
    {
      "cell_type": "code",
      "metadata": {
        "id": "tkkKcwYphzZ9"
      },
      "source": [
        "##########################################################################\r\n",
        "# We sample the same number of fractions for FRR, evenly distributed between\r\n",
        "# 1/n_alphas and 1.\r\n",
        "#\r\n",
        "\r\n",
        "fracs = np.linspace(1/n_alphas, 1 + 1/n_alphas, n_alphas)\r\n",
        "frr = FracRidgeRegressorCV(frac_grid=fracs)\r\n",
        "frr.fit(X_train, y_train)"
      ],
      "execution_count": null,
      "outputs": []
    },
    {
      "cell_type": "markdown",
      "metadata": {
        "id": "ofLBso98iY-7"
      },
      "source": [
        "- サイズ確認"
      ]
    },
    {
      "cell_type": "code",
      "metadata": {
        "id": "_b62H2rniYhK"
      },
      "source": [
        "X_train.shape"
      ],
      "execution_count": null,
      "outputs": []
    },
    {
      "cell_type": "code",
      "metadata": {
        "id": "aHH6LzgHidEn"
      },
      "source": [
        "y_train.shape"
      ],
      "execution_count": null,
      "outputs": []
    },
    {
      "cell_type": "code",
      "metadata": {
        "id": "AGLj5kw7ii2f"
      },
      "source": [
        "pred_frr = frr.predict(X_test)\r\n",
        "print('X_test.shape : ',X_test.shape)\r\n",
        "print('y_test.shape :',y_test.shape)\r\n",
        "print('pred_frr.shape :',pred_frr.shape)"
      ],
      "execution_count": null,
      "outputs": []
    },
    {
      "cell_type": "code",
      "metadata": {
        "id": "Gdkg83WRjJqi"
      },
      "source": [
        "frr.coef_.shape"
      ],
      "execution_count": null,
      "outputs": []
    },
    {
      "cell_type": "code",
      "metadata": {
        "id": "hCRR3wXJkrNM"
      },
      "source": [
        "frr.alpha_.shape"
      ],
      "execution_count": null,
      "outputs": []
    },
    {
      "cell_type": "code",
      "metadata": {
        "id": "uY4EHLK5jReN"
      },
      "source": [
        "np.dot(X_test,frr.coef_).shape"
      ],
      "execution_count": null,
      "outputs": []
    },
    {
      "cell_type": "markdown",
      "metadata": {
        "id": "1O03jjjnjeEJ"
      },
      "source": [
        "https://github.com/Shin-kyoto/fracridge/blob/master/fracridge/fracridge.py\r\n",
        "における，\r\n",
        "### FracRidgeRegressorクラス\r\n",
        "- 入力\r\n",
        "```python\r\n",
        "    X : ndarray, shape (n, p) #(63, 80)\r\n",
        "    y : ndarray, shape (n, b) #(63, 15)\r\n",
        "```\r\n",
        "\r\n",
        "- 出力\r\n",
        "```python\r\n",
        "    coef_ : ndarray, shape (p, f, b)#(80,f, 15)\r\n",
        "    alpha_ : ndarray, shape (f, b)#(f, 15)\r\n",
        "```\r\n",
        "- f個の候補を出力する．\r\n",
        "\r\n",
        "###  FracRidgeRegressorCVクラス\r\n",
        "- FracRidgeRegressorクラスで計算している，f個の候補それぞれに対し，Cross Validationを行って，**最良のもののみ**出力してくれる\r\n",
        "\r\n",
        "- 入力\r\n",
        "```python\r\n",
        "    X : ndarray, shape (n, p) #(63, 80)\r\n",
        "    y : ndarray, shape (n, b) #(63, 15)\r\n",
        "```\r\n",
        "\r\n",
        "- 出力\r\n",
        "```python\r\n",
        "    coef_ : ndarray, shape (p, b)#(80, 15)\r\n",
        "    alpha_ : ndarray, shape (b)#(1, 15)\r\n",
        "```\r\n",
        "- 最良の1組を出力する．"
      ]
    },
    {
      "cell_type": "markdown",
      "metadata": {
        "id": "bPKBk9j5jBAR"
      },
      "source": [
        "## SRRとFRRの比較"
      ]
    },
    {
      "cell_type": "code",
      "metadata": {
        "id": "g3uPcg1Re3dO"
      },
      "source": [
        "##########################################################################\r\n",
        "# Both models are fit and used to predict a left out set. Performance\r\n",
        "# of the models is compared using the :func:`sklearn.metrics.r2_score`\r\n",
        "# function (coefficient of determination).\r\n",
        "\r\n",
        "pred_frr = frr.predict(X_test)\r\n",
        "pred_srr = srr.predict(X_test)\r\n",
        "\r\n",
        "frr_r2 = r2_score(y_test, pred_frr)\r\n",
        "srr_r2 = r2_score(y_test, pred_srr)\r\n",
        "\r\n",
        "print(frr_r2)\r\n",
        "print(srr_r2)\r\n",
        "\r\n",
        "##########################################################################\r\n",
        "# In addition to a direct comparison of performance, we might ask what are the\r\n",
        "# differences in terms of how the models have reached this point.\r\n",
        "# The FRR CV estimator has a property that tells us what has been discovered\r\n",
        "# as the best fraction (or 'gamma') to use:\r\n",
        "\r\n",
        "print('frr.best_frac_ : ',frr.best_frac_)\r\n",
        "print('')\r\n",
        "\r\n",
        "##########################################################################\r\n",
        "# We can also ask what `alpha` value was deemed best. For the\r\n",
        "# multi-target case presented here, this will be a vector of values,\r\n",
        "# one for each target:\r\n",
        "\r\n",
        "print('frr.alpha_',frr.alpha_)\r\n",
        "print('')\r\n",
        "\r\n",
        "##########################################################################\r\n",
        "# In contrast, the SRR estimator has just one value of `alpha`:\r\n",
        "\r\n",
        "print('srr.alpha_',srr.alpha_)\r\n",
        "print('')\r\n",
        "\r\n",
        "##########################################################################\r\n",
        "# But this one value causes many different changes in the coefficient\r\n",
        "#\r\n",
        "\r\n",
        "lr = LinearRegression()\r\n",
        "frr.fit(X, y)\r\n",
        "srr.fit(X, y)\r\n",
        "lr.fit(X, y)\r\n",
        "\r\n",
        "print(norm(frr.coef_, axis=0)  / norm(lr.coef_, axis=-1))\r\n",
        "print(norm(srr.coef_, axis=-1)  / norm(lr.coef_, axis=-1))\r\n",
        "\r\n",
        "print('srr.best_score_ : ',srr.best_score_)\r\n",
        "print('frr.best_score_', frr.best_score_)"
      ],
      "execution_count": null,
      "outputs": []
    },
    {
      "cell_type": "code",
      "metadata": {
        "id": "AB2B9oRPjDHG"
      },
      "source": [
        ""
      ],
      "execution_count": null,
      "outputs": []
    }
  ]
}